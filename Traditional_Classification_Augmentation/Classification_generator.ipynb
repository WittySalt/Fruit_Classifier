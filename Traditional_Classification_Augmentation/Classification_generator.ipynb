{
 "cells": [
  {
   "cell_type": "markdown",
   "metadata": {},
   "source": [
    "# Import the libraries for CNN ML"
   ]
  },
  {
   "cell_type": "code",
   "execution_count": 1,
   "metadata": {},
   "outputs": [],
   "source": [
    "#import the libraries\n",
    "import numpy as np\n",
    "import tensorflow as tf\n",
    "import matplotlib.pyplot as plt\n",
    "import os\n",
    "from PIL import Image"
   ]
  },
  {
   "cell_type": "markdown",
   "metadata": {},
   "source": [
    "# Load the dataset"
   ]
  },
  {
   "cell_type": "code",
   "execution_count": 2,
   "metadata": {},
   "outputs": [],
   "source": [
    "def load_dataset(directory, img_width, img_height):\n",
    "    datagen = tf.keras.preprocessing.image.ImageDataGenerator(\n",
    "        rescale=1./255,\n",
    "        rotation_range=0.2,  \n",
    "        #width_shift_range=0.2,\n",
    "        #height_shift_range=0.2,\n",
    "        shear_range=0.2,\n",
    "        zoom_range=0.2\n",
    "        #horizontal_flip=True,\n",
    "    )\n",
    "\n",
    "    generator = datagen.flow_from_directory(\n",
    "        directory,\n",
    "        target_size=(img_width, img_height),\n",
    "        batch_size=32,\n",
    "        color_mode='rgb',\n",
    "        class_mode='categorical')\n",
    "\n",
    "    return generator"
   ]
  },
  {
   "cell_type": "markdown",
   "metadata": {},
   "source": [
    "# Create the Model"
   ]
  },
  {
   "cell_type": "code",
   "execution_count": 3,
   "metadata": {},
   "outputs": [],
   "source": [
    "def create_model():\n",
    "    model = tf.keras.Sequential()\n",
    "\n",
    "    # create a CNN model\n",
    "    model.add(tf.keras.layers.Conv2D(filters=32,\n",
    "        kernel_size=(3, 3), activation='relu', input_shape=(256,256,3)))\n",
    "    model.add(tf.keras.layers.MaxPooling2D(pool_size=(2, 2)))\n",
    "    #model.add(tf.keras.layers.Dropout(0.2))\n",
    "\n",
    "    model.add(tf.keras.layers.Conv2D(filters=64,\n",
    "        kernel_size=(3, 3), activation='relu'))\n",
    "    model.add(tf.keras.layers.MaxPooling2D(pool_size=(2, 2)))\n",
    "    #model.add(tf.keras.layers.Dropout(0.2))\n",
    "\n",
    "    model.add(tf.keras.layers.Conv2D(filters=128,\n",
    "        kernel_size=(3, 3), activation='relu'))\n",
    "    model.add(tf.keras.layers.MaxPooling2D(pool_size=(2, 2)))\n",
    "    #model.add(tf.keras.layers.Dropout(0.2))\n",
    "    \n",
    "    model.add(tf.keras.layers.Conv2D(filters=128,\n",
    "        kernel_size=(3, 3), activation='relu'))\n",
    "    model.add(tf.keras.layers.MaxPooling2D(pool_size=(2, 2)))\n",
    "    #model.add(tf.keras.layers.Dropout(0.2))\n",
    "\n",
    "    model.add(tf.keras.layers.Flatten())\n",
    "    model.add(tf.keras.layers.Dense(units=1024, activation='relu'))    \n",
    "    model.add(tf.keras.layers.Dropout(0.2))\n",
    "\n",
    "    model.add(tf.keras.layers.Dense(units=4, activation='softmax'))    \n",
    "\n",
    "    # build the model\n",
    "    model.compile(loss='categorical_crossentropy', optimizer='adam', \n",
    "                    metrics=['accuracy'])\n",
    "\n",
    "    return model"
   ]
  },
  {
   "cell_type": "markdown",
   "metadata": {},
   "source": [
    "# Plot the map"
   ]
  },
  {
   "cell_type": "code",
   "execution_count": 4,
   "metadata": {},
   "outputs": [],
   "source": [
    "def plot_history(history):\n",
    "    fig = plt.figure(num=1, figsize=(14,5))\n",
    "    \n",
    "    ax1 = fig.add_subplot(211)   \n",
    "    ax1.plot(history.history['loss'])\n",
    "    ax1.set_xlabel('Epochs')\n",
    "    ax1.set_ylabel('Loss')\n",
    "    ax1.set_title('Loss Curve')\n",
    "    \n",
    "    ax2 = fig.add_subplot(212)\n",
    "    ax2.plot(history.history['accuracy'])\n",
    "    ax2.set_xlabel('Epochs')\n",
    "    ax2.set_ylabel('Accuracy')\n",
    "    ax2.set_title('Accuracy Curve')"
   ]
  },
  {
   "cell_type": "markdown",
   "metadata": {},
   "source": [
    "# Main Program"
   ]
  },
  {
   "cell_type": "code",
   "execution_count": 5,
   "metadata": {},
   "outputs": [
    {
     "name": "stdout",
     "output_type": "stream",
     "text": [
      "Model: \"sequential\"\n",
      "_________________________________________________________________\n",
      " Layer (type)                Output Shape              Param #   \n",
      "=================================================================\n",
      " conv2d (Conv2D)             (None, 254, 254, 32)      896       \n",
      "                                                                 \n",
      " max_pooling2d (MaxPooling2D  (None, 127, 127, 32)     0         \n",
      " )                                                               \n",
      "                                                                 \n",
      " conv2d_1 (Conv2D)           (None, 125, 125, 64)      18496     \n",
      "                                                                 \n",
      " max_pooling2d_1 (MaxPooling  (None, 62, 62, 64)       0         \n",
      " 2D)                                                             \n",
      "                                                                 \n",
      " conv2d_2 (Conv2D)           (None, 60, 60, 128)       73856     \n",
      "                                                                 \n",
      " max_pooling2d_2 (MaxPooling  (None, 30, 30, 128)      0         \n",
      " 2D)                                                             \n",
      "                                                                 \n",
      " conv2d_3 (Conv2D)           (None, 28, 28, 128)       147584    \n",
      "                                                                 \n",
      " max_pooling2d_3 (MaxPooling  (None, 14, 14, 128)      0         \n",
      " 2D)                                                             \n",
      "                                                                 \n",
      " flatten (Flatten)           (None, 25088)             0         \n",
      "                                                                 \n",
      " dense (Dense)               (None, 1024)              25691136  \n",
      "                                                                 \n",
      " dropout (Dropout)           (None, 1024)              0         \n",
      "                                                                 \n",
      " dense_1 (Dense)             (None, 4)                 4100      \n",
      "                                                                 \n",
      "=================================================================\n",
      "Total params: 25,936,068\n",
      "Trainable params: 25,936,068\n",
      "Non-trainable params: 0\n",
      "_________________________________________________________________\n",
      "None\n",
      "Found 240 images belonging to 4 classes.\n",
      "Found 60 images belonging to 4 classes.\n",
      "Epoch 1/15\n"
     ]
    },
    {
     "name": "stderr",
     "output_type": "stream",
     "text": [
      "d:\\anaconda3\\envs\\mlaenv\\lib\\site-packages\\PIL\\Image.py:970: UserWarning: Palette images with Transparency expressed in bytes should be converted to RGBA images\n",
      "  warnings.warn(\n"
     ]
    },
    {
     "name": "stdout",
     "output_type": "stream",
     "text": [
      "7/7 [==============================] - 19s 3s/step - loss: 1.8278 - accuracy: 0.3077 - val_loss: 1.2002 - val_accuracy: 0.5333\n",
      "Epoch 2/15\n",
      "7/7 [==============================] - 18s 3s/step - loss: 1.0816 - accuracy: 0.5529 - val_loss: 1.0528 - val_accuracy: 0.5667\n",
      "Epoch 3/15\n",
      "7/7 [==============================] - 18s 3s/step - loss: 0.8573 - accuracy: 0.6562 - val_loss: 0.7954 - val_accuracy: 0.7000\n",
      "Epoch 4/15\n",
      "7/7 [==============================] - 18s 3s/step - loss: 0.6575 - accuracy: 0.7768 - val_loss: 0.5995 - val_accuracy: 0.7833\n",
      "Epoch 5/15\n",
      "7/7 [==============================] - 18s 3s/step - loss: 0.4608 - accuracy: 0.8413 - val_loss: 0.4266 - val_accuracy: 0.9000\n",
      "Epoch 6/15\n",
      "7/7 [==============================] - 17s 2s/step - loss: 0.3725 - accuracy: 0.8942 - val_loss: 0.4980 - val_accuracy: 0.9167\n",
      "Epoch 7/15\n",
      "7/7 [==============================] - 18s 3s/step - loss: 0.3284 - accuracy: 0.8894 - val_loss: 0.5680 - val_accuracy: 0.8333\n",
      "Epoch 8/15\n",
      "7/7 [==============================] - 17s 2s/step - loss: 0.2642 - accuracy: 0.9038 - val_loss: 0.3425 - val_accuracy: 0.9167\n",
      "Epoch 9/15\n",
      "7/7 [==============================] - 18s 3s/step - loss: 0.1602 - accuracy: 0.9519 - val_loss: 0.3902 - val_accuracy: 0.9333\n",
      "Epoch 10/15\n",
      "7/7 [==============================] - 19s 3s/step - loss: 0.1333 - accuracy: 0.9471 - val_loss: 0.4390 - val_accuracy: 0.9167\n",
      "Epoch 11/15\n",
      "7/7 [==============================] - 18s 3s/step - loss: 0.0842 - accuracy: 0.9663 - val_loss: 0.5019 - val_accuracy: 0.9167\n",
      "Epoch 12/15\n",
      "7/7 [==============================] - 17s 2s/step - loss: 0.0559 - accuracy: 0.9808 - val_loss: 0.6318 - val_accuracy: 0.9000\n",
      "Epoch 13/15\n",
      "7/7 [==============================] - 17s 2s/step - loss: 0.0752 - accuracy: 0.9663 - val_loss: 1.2599 - val_accuracy: 0.8500\n",
      "Epoch 14/15\n",
      "7/7 [==============================] - 17s 3s/step - loss: 0.1256 - accuracy: 0.9567 - val_loss: 0.6035 - val_accuracy: 0.8833\n",
      "Epoch 15/15\n",
      "7/7 [==============================] - 18s 2s/step - loss: 0.0582 - accuracy: 0.9904 - val_loss: 0.8770 - val_accuracy: 0.9000\n",
      "2/2 [==============================] - 2s 1s/step - loss: 0.7103 - accuracy: 0.9167\n"
     ]
    },
    {
     "data": {
      "image/png": "[encoded data removed]",
      "text/plain": [
       "<Figure size 1400x500 with 2 Axes>"
      ]
     },
     "metadata": {},
     "output_type": "display_data"
    }
   ],
   "source": [
    "#please alter this path to your own path\n",
    "train_data_dir = 'train_generator'\n",
    "test_data_dir = 'test_generator'\n",
    "img_width = 256\n",
    "img_height = 256\n",
    "\n",
    "def main():\n",
    "    model = create_model()\n",
    "    print(model.summary())\n",
    "\n",
    "    train_generator=load_dataset(train_data_dir, img_width, img_height)\n",
    "    test_generator=load_dataset(test_data_dir, img_width, img_height)\n",
    "\n",
    "    steps_per_epoch = train_generator.n//train_generator.batch_size\n",
    "    \n",
    "    history=model.fit(x=train_generator, steps_per_epoch=steps_per_epoch, epochs=15, validation_data=test_generator)\n",
    "    model.evaluate(x=test_generator)\n",
    "\n",
    "    plot_history(history)\n",
    "\n",
    "if __name__ == \"__main__\":\n",
    "    main()"
   ]
  }
 ],
 "metadata": {
  "kernelspec": {
   "display_name": "mlaenv",
   "language": "python",
   "name": "mlaenv"
  },
  "language_info": {
   "codemirror_mode": {
    "name": "ipython",
    "version": 3
   },
   "file_extension": ".py",
   "mimetype": "text/x-python",
   "name": "python",
   "nbconvert_exporter": "python",
   "pygments_lexer": "ipython3",
   "version": "3.9.18"
  }
 },
 "nbformat": 4,
 "nbformat_minor": 2
}
